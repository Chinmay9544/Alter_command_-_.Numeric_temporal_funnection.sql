{
  "nbformat": 4,
  "nbformat_minor": 0,
  "metadata": {
    "colab": {
      "provenance": [],
      "authorship_tag": "ABX9TyNPPuPKERYB9Dpx9Rg3WK27",
      "include_colab_link": true
    },
    "kernelspec": {
      "name": "python3",
      "display_name": "Python 3"
    },
    "language_info": {
      "name": "python"
    }
  },
  "cells": [
    {
      "cell_type": "markdown",
      "metadata": {
        "id": "view-in-github",
        "colab_type": "text"
      },
      "source": [
        "<a href=\"https://colab.research.google.com/github/Chinmay9544/Alter_command_-_.Numeric_temporal_funnection.sql/blob/main/python_mandetory_project_1.ipynb\" target=\"_parent\"><img src=\"https://colab.research.google.com/assets/colab-badge.svg\" alt=\"Open In Colab\"/></a>"
      ]
    },
    {
      "cell_type": "code",
      "execution_count": null,
      "metadata": {
        "id": "tINX8Z7qMT_V"
      },
      "outputs": [],
      "source": []
    },
    {
      "cell_type": "markdown",
      "source": [
        "Q1: You are working in a bank, and you have been given two lists of the employees who worked in 2021. Employees’ names in list 1 are Ramesh, Suresh, Mahesh, Ali, Jacob, and Saritha. List 2 contains the names of Ali, Mukesh, Mahesh, Jacob, Sai, and Sarita. Please write a program that helps to identify people who are common in both lists. Please do not use any in-built function."
      ],
      "metadata": {
        "id": "VPST2argMlJ-"
      }
    },
    {
      "cell_type": "code",
      "source": [
        "list1 = {'Ramesh', 'Suresh', 'Mahesh', 'Ali', 'Jacob', 'Saritha'} ## SET is used\n",
        "list2 = {'Ali', 'Mukesh', 'Mahesh', 'Jacob', 'Sai', 'Sarita'}\n",
        "list1.intersection(list2)"
      ],
      "metadata": {
        "colab": {
          "base_uri": "https://localhost:8080/"
        },
        "id": "-zIgbHoTMmAR",
        "outputId": "b621611c-915f-4ea3-8d45-b2bc04c34702"
      },
      "execution_count": null,
      "outputs": [
        {
          "output_type": "execute_result",
          "data": {
            "text/plain": [
              "{'Ali', 'Jacob', 'Mahesh'}"
            ]
          },
          "metadata": {},
          "execution_count": 2
        }
      ]
    },
    {
      "cell_type": "code",
      "source": [
        "def find_common_elements(list1, list2):\n",
        "    common_elements = []\n",
        "    for item in list1:\n",
        "        if item in list2:\n",
        "            common_elements.append(item)\n",
        "    return common_elements\n",
        "\n",
        "# Test the function\n",
        "list1 = [\"Ramesh\", \"Suresh\", \"Mahesh\", \"Ali\", \"Jacob\", \"Saritha\"]\n",
        "list2 = [\"Ali\", \"Mukesh\", \"Mahesh\", \"Jacob\", \"Sai\", \"Sarita\"]\n",
        "\n",
        "common_list = find_common_elements(list1, list2)\n",
        "print(\"Common elements:\", common_list)\n"
      ],
      "metadata": {
        "colab": {
          "base_uri": "https://localhost:8080/"
        },
        "id": "vHykUWAAWdFP",
        "outputId": "fecac7bf-52e9-4e9c-e8f3-1a1f610ce5c5"
      },
      "execution_count": null,
      "outputs": [
        {
          "output_type": "stream",
          "name": "stdout",
          "text": [
            "Common elements: ['Mahesh', 'Ali', 'Jacob']\n"
          ]
        }
      ]
    },
    {
      "cell_type": "code",
      "source": [],
      "metadata": {
        "id": "Ahc0PIyqIJqO"
      },
      "execution_count": null,
      "outputs": []
    },
    {
      "cell_type": "markdown",
      "source": [
        "Q2: While entering data, someone entered a few names as a common string “Ramesh Suresh Mohit”. Please write a program which separates all the names and converts them into a list. Once converted into a list, please write a program that adds their age.\n",
        "\n",
        "\n",
        "Ramesh:  25\n",
        "\n",
        "Suresh: 22\n",
        "\n",
        "Mohit: 26"
      ],
      "metadata": {
        "id": "cVk9Q9YLOGnj"
      }
    },
    {
      "cell_type": "code",
      "source": [
        "names_string = \"Ramesh Suresh Mohit\"\n",
        "names_list = names_string.split()\n",
        "age_dict=[25,22,26]\n",
        "salary=[1500,1800,2200]\n",
        "list(zip(names_list,age_dict,salary))"
      ],
      "metadata": {
        "colab": {
          "base_uri": "https://localhost:8080/"
        },
        "id": "rjEecNouNG7u",
        "outputId": "990ea9ae-b33d-4073-9afb-ecb7360b1d2f"
      },
      "execution_count": null,
      "outputs": [
        {
          "output_type": "execute_result",
          "data": {
            "text/plain": [
              "[('Ramesh', 25, 1500), ('Suresh', 22, 1800), ('Mohit', 26, 2200)]"
            ]
          },
          "metadata": {},
          "execution_count": 2
        }
      ]
    },
    {
      "cell_type": "code",
      "source": [
        "names_list = ('Ramesh','Suresh','Mohit')\n",
        "age_dict=[25,22,26]\n",
        "salary=[1500,1800,2200]\n",
        "list(zip(names_list,age_dict,salary))"
      ],
      "metadata": {
        "colab": {
          "base_uri": "https://localhost:8080/"
        },
        "id": "FAPiHoZocQyW",
        "outputId": "c79a304c-f124-4a46-864a-eecb5c001564"
      },
      "execution_count": null,
      "outputs": [
        {
          "output_type": "execute_result",
          "data": {
            "text/plain": [
              "[('Ramesh', 25, 1500), ('Suresh', 22, 1800), ('Mohit', 26, 2200)]"
            ]
          },
          "metadata": {},
          "execution_count": 5
        }
      ]
    },
    {
      "cell_type": "markdown",
      "source": [
        "Q3: You are working in a medical store. A patient came to your medical store and asked to buy 2 strips of paracetamol, 3 strips of azithromycin, and 5 strips of Vitamin C. One strip of paracetamol costs Rs 35, one strip of azithromycin costs Rs 49, and one strip of vitamin c costs Rs. 33. Patient gave you Rs 2000. Please tell us what is the total cost of each medicine, the total cost of all medicine, and how much money you refunded to the patient."
      ],
      "metadata": {
        "id": "051hERv8iAu9"
      }
    },
    {
      "cell_type": "code",
      "source": [
        "paracetamol_price = 35\n",
        "azithromycin_price = 49\n",
        "vitamin_c_price = 33\n",
        "\n",
        "paracetamol_strips = int(input(\"enter ther paracetamol strip:\"))\n",
        "azithromycin_strips = int(input(\"enter ther azithromycin_strips:\"))\n",
        "vitamin_c_strips = int(input(\"enter ther vitamin_c_strips:\"))\n",
        "\n",
        "total_cost_paracetamol = paracetamol_strips * paracetamol_price\n",
        "total_cost_azithromycin = azithromycin_strips * azithromycin_price\n",
        "total_cost_vitamin_c = vitamin_c_strips * vitamin_c_price\n",
        "\n",
        "total_cost = total_cost_paracetamol + total_cost_azithromycin + total_cost_vitamin_c\n",
        "refund_amount = 2000 - total_cost\n",
        "\n",
        "print(\"Total cost of Paracetamol: Rs\", total_cost_paracetamol)\n",
        "print(\"Total cost of Azithromycin: Rs\", total_cost_azithromycin)\n",
        "print(\"Total cost of Vitamin C: Rs\", total_cost_vitamin_c)\n",
        "print(\"Total cost of all medicines: Rs\", total_cost)\n",
        "print(\"Refund amount: Rs\", refund_amount)\n"
      ],
      "metadata": {
        "id": "BFcS5rTSQABG",
        "colab": {
          "base_uri": "https://localhost:8080/"
        },
        "outputId": "3c8de41e-5b08-42d9-bd29-5bb4e6204ae7"
      },
      "execution_count": null,
      "outputs": [
        {
          "output_type": "stream",
          "name": "stdout",
          "text": [
            "enter ther paracetamol strip:15\n",
            "enter ther azithromycin_strips:5\n",
            "enter ther vitamin_c_strips:1518\n",
            "Total cost of Paracetamol: Rs 525\n",
            "Total cost of Azithromycin: Rs 245\n",
            "Total cost of Vitamin C: Rs 594\n",
            "Total cost of all medicines: Rs 1364\n",
            "Refund amount: Rs 636\n"
          ]
        }
      ]
    },
    {
      "cell_type": "markdown",
      "source": [
        "Q4: Accept a sentence as input and find the number of vowels in it. Assume that the sentence has no punctuation marks. For example, I am learning python contains 6 vowels. This function should be applicable for all other different sentences."
      ],
      "metadata": {
        "id": "feGKDWlJi1G1"
      }
    },
    {
      "cell_type": "code",
      "source": [
        "def count_vowels(sentence):\n",
        "    vowels = ['a', 'e', 'i', 'o', 'u']\n",
        "    count = 0\n",
        "\n",
        "    for char in sentence:\n",
        "        if char in vowels:\n",
        "            count += 1\n",
        "\n",
        "    return count\n",
        "\n",
        "sentence = input(\"Enter a sentence: \")\n",
        "vowel_count = count_vowels(sentence)\n",
        "print(\"Number of vowels:\", vowel_count)\n"
      ],
      "metadata": {
        "colab": {
          "base_uri": "https://localhost:8080/"
        },
        "id": "bRWYvCwKitRO",
        "outputId": "79d7b9a9-df6d-4e62-e5db-57432c08939a"
      },
      "execution_count": null,
      "outputs": [
        {
          "output_type": "stream",
          "name": "stdout",
          "text": [
            "Enter a sentence: i am a good student in my college\n",
            "Number of vowels: 11\n"
          ]
        }
      ]
    },
    {
      "cell_type": "markdown",
      "source": [
        "Q5: You have been appointed by the election commission to create a website. Your first task is to work on a program which tells candidates if they are eligible for voting or not. If they are eligible, your output should be ‘Congrats! You are eligible’; otherwise, it should tell that you have to return after X number of years. The eligibility criteria for voting is 18 years.\n",
        "\n",
        "For example, If someone is 18 or above, your output should be ‘Congrats! You are eligible’. If someone’s age is 15 years, it should print output as ‘return after 3 years’."
      ],
      "metadata": {
        "id": "JZoQU4yEkE4H"
      }
    },
    {
      "cell_type": "code",
      "source": [
        "def check_voting_eligibility(age):\n",
        "    if age >= 18:\n",
        "        return \"Congrats! You are eligible\"\n",
        "    else:\n",
        "        years_remaining = 18 - age\n",
        "        return \"Sorry, you are not eligible. Please return after {} years.\".format(years_remaining)\n",
        "\n",
        "age = int(input(\"Enter your age: \"))\n",
        "eligibility_result = check_voting_eligibility(age)\n",
        "print(eligibility_result)\n"
      ],
      "metadata": {
        "colab": {
          "base_uri": "https://localhost:8080/"
        },
        "id": "ZBERf0N0kAYi",
        "outputId": "33f61766-e589-4b2b-c7da-2d12a5f63bf8"
      },
      "execution_count": null,
      "outputs": [
        {
          "output_type": "stream",
          "name": "stdout",
          "text": [
            "Enter your age: 12\n",
            "Sorry, you are not eligible. Please return after 6 years.\n"
          ]
        }
      ]
    },
    {
      "cell_type": "markdown",
      "source": [
        "Q6: Given a list of integers, find the cumulative sum of the elements of the list and store them in another list.\n",
        "\n",
        "A = [1, 2, 3, 4, 5]\n",
        "\n",
        "Output:\n",
        "\n",
        "[1, 3, 6, 10, 15]"
      ],
      "metadata": {
        "id": "cKQM0n4gm16F"
      }
    },
    {
      "cell_type": "code",
      "source": [
        "def calculate_cumulative_sum(numbers):\n",
        "    cumulative_sum = []\n",
        "    current_sum = 0\n",
        "\n",
        "    for num in numbers:\n",
        "        current_sum += num ## current_sum = current_sum + num\n",
        "        cumulative_sum.append(current_sum) ## all sum of current_sum get append in CUMULATIVE_SUM\n",
        "\n",
        "    return cumulative_sum\n",
        "\n",
        "num = [1, 2, 3, 4, 5]\n",
        "cumulative_sum_list = calculate_cumulative_sum(num)\n",
        "print(cumulative_sum_list)\n"
      ],
      "metadata": {
        "colab": {
          "base_uri": "https://localhost:8080/"
        },
        "id": "wf6XcgPWloI2",
        "outputId": "057ecc98-27a3-4d98-e788-d18d6270eafb"
      },
      "execution_count": null,
      "outputs": [
        {
          "output_type": "stream",
          "name": "stdout",
          "text": [
            "[1, 3, 6, 10, 15]\n"
          ]
        }
      ]
    },
    {
      "cell_type": "markdown",
      "source": [
        "Q7:\n",
        "\n",
        "WAP to encode a message entered by user as per below conditions:\n",
        "\n",
        "for every word in the sentence,\n",
        "\n",
        "1. If the word starts with a vowel, encode it as first and last letter of the word.\n",
        "\n",
        "2. If the word starts with a consonant, remove all vowels from it.\n",
        "\n",
        "Ensure the case insensitive comparisions/checks are performed.\n",
        "\n",
        "Please enter your text:The quick brown fox used to sleep inside this box\n",
        "\n",
        "Encoded Msg: Th qck brwn fx ud t slp ie ths bx"
      ],
      "metadata": {
        "id": "e9GhMUoowbes"
      }
    },
    {
      "cell_type": "code",
      "source": [
        "def encode_message(message):\n",
        "    vowels = ['a', 'e', 'i', 'o', 'u']\n",
        "    encoded_words = []\n",
        "\n",
        "    words = message.split()\n",
        "\n",
        "    for word in words:\n",
        "        if word[0].lower() in vowels:\n",
        "            encoded_word = word[0] + word[-1]\n",
        "        else:\n",
        "            encoded_word = ''.join([char for char in word if char.lower() not in vowels])\n",
        "\n",
        "        encoded_words.append(encoded_word)\n",
        "\n",
        "    encoded_message = ' '.join(encoded_words)\n",
        "    return encoded_message\n",
        "\n",
        "message = input(\"Please enter your text: \")\n",
        "encoded_msg = encode_message(message)\n",
        "print(\"Encoded Msg:\", encoded_msg)"
      ],
      "metadata": {
        "id": "5EKLUonkJnth"
      },
      "execution_count": null,
      "outputs": []
    },
    {
      "cell_type": "markdown",
      "source": [
        "Q8:\n",
        "\n",
        "Write a program to implement run length encoding of a string\n",
        "\n",
        "RLE:Consecutive repetition of a character has to be replaced with the count of occurances and the character.\n",
        "\n",
        "Enter your string :aabbbccdddae\n",
        "\n",
        "Encoded: 2a3b2c3d1a1e"
      ],
      "metadata": {
        "id": "KgtXpUf_xBTs"
      }
    },
    {
      "cell_type": "code",
      "source": [
        "def run_length_encode(string):\n",
        "    encoded_string = \"\"\n",
        "    count = 1\n",
        "\n",
        "    for i in range(1, len(string)):\n",
        "        if string[i] == string[i - 1]:\n",
        "            count += 1\n",
        "        else:\n",
        "            encoded_string += str(count) + string[i - 1]\n",
        "            count = 1\n",
        "\n",
        "    encoded_string += str(count) + string[-1]\n",
        "\n",
        "    return encoded_string\n",
        "\n",
        "string = input(\"Enter your string: \")\n",
        "encoded_string = run_length_encode(string)\n",
        "print(\"Encoded:\", encoded_string)\n"
      ],
      "metadata": {
        "id": "V0Wt8ajRxQfj"
      },
      "execution_count": null,
      "outputs": []
    }
  ]
}